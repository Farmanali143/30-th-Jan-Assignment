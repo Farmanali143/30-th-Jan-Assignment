{
 "cells": [
  {
   "cell_type": "code",
   "execution_count": null,
   "id": "673a632b-cb1e-4272-b3b3-139facecfb14",
   "metadata": {},
   "outputs": [],
   "source": [
    "Q1. Write a program to accept percentage from the user and display the grade according to the following criteria:"
   ]
  },
  {
   "cell_type": "code",
   "execution_count": null,
   "id": "0d624dfb-d312-4dbe-b126-8b0c2bf12065",
   "metadata": {},
   "outputs": [],
   "source": [
    "Ans1. Below is the code for the same:"
   ]
  },
  {
   "cell_type": "code",
   "execution_count": 28,
   "id": "39b52c1f-517d-43e2-9411-ec38d1db1102",
   "metadata": {},
   "outputs": [
    {
     "name": "stdin",
     "output_type": "stream",
     "text": [
      "Enter your percentage: 79.6\n"
     ]
    },
    {
     "name": "stdout",
     "output_type": "stream",
     "text": [
      "C\n"
     ]
    }
   ],
   "source": [
    "Percentage = float(input(\"Enter your percentage:\"))\n",
    "if Percentage >90:\n",
    "    print(\"A\")\n",
    "elif Percentage >80 and Percentage <=90 :\n",
    "    print(\"B\")\n",
    "elif Percentage >=60 and Percentage <=80:\n",
    "    print(\"C\")\n",
    "else:\n",
    "    print(\"D\")"
   ]
  },
  {
   "cell_type": "code",
   "execution_count": null,
   "id": "bc1b682a-3106-4c3a-9d17-4ca0311f7e7a",
   "metadata": {},
   "outputs": [],
   "source": [
    "Q2. Write a program to accept the cost price of a bike and display the road tax to be paid according to the \n",
    "given criteria"
   ]
  },
  {
   "cell_type": "code",
   "execution_count": null,
   "id": "14cfad3a-1410-4aa7-b20d-ef87e9326cdd",
   "metadata": {},
   "outputs": [],
   "source": [
    "Ans2. Below is the code for the same:"
   ]
  },
  {
   "cell_type": "code",
   "execution_count": 27,
   "id": "38733a51-252a-4a0b-b1ae-58b2caef05a7",
   "metadata": {},
   "outputs": [
    {
     "name": "stdin",
     "output_type": "stream",
     "text": [
      " Enter your cost price of a bike: 80000\n"
     ]
    },
    {
     "name": "stdout",
     "output_type": "stream",
     "text": [
      "10%\n"
     ]
    }
   ],
   "source": [
    "CostPriceofaBike = float(input(\" Enter your cost price of a bike:\"))\n",
    "if (CostPriceofaBike > 100000):\n",
    "    print(\"15%\")\n",
    "elif CostPriceofaBike > 50000 and CostPriceofaBike<= 100000:\n",
    "    print(\"10%\")\n",
    "else:\n",
    "    print(\"5%\")"
   ]
  },
  {
   "cell_type": "code",
   "execution_count": null,
   "id": "448780ca-644c-438b-a65d-13bff1bfc24e",
   "metadata": {},
   "outputs": [],
   "source": [
    "Q3. Accept any city from the user and display monuments of that city."
   ]
  },
  {
   "cell_type": "code",
   "execution_count": null,
   "id": "b8e54dee-ccb5-4682-ad84-203186ff265b",
   "metadata": {},
   "outputs": [],
   "source": [
    "Ans, Below is the code for the same:"
   ]
  },
  {
   "cell_type": "code",
   "execution_count": 35,
   "id": "5debd612-e45d-40e2-a9a6-c16d6007b806",
   "metadata": {},
   "outputs": [
    {
     "name": "stdin",
     "output_type": "stream",
     "text": [
      " Enter your city name: Agra\n"
     ]
    },
    {
     "name": "stdout",
     "output_type": "stream",
     "text": [
      "Taj Mahal\n"
     ]
    }
   ],
   "source": [
    "City = input(\" Enter your city name:\")\n",
    "if City == \"Delhi\":\n",
    "    print(\"Red Fort\")\n",
    "elif City == \"Agra\":\n",
    "    print(\"Taj Mahal\")\n",
    "elif City == \"Jaipur\":\n",
    "    print(\"Jal Mahal\")"
   ]
  },
  {
   "cell_type": "code",
   "execution_count": null,
   "id": "153aa33e-785a-441c-a44c-209150227a03",
   "metadata": {},
   "outputs": [],
   "source": [
    "Q4. Check how many times a given number can be divided by 3 before it is less than or equal to 10."
   ]
  },
  {
   "cell_type": "code",
   "execution_count": null,
   "id": "0ab3e37c-f23d-4651-bc7a-698724d58e21",
   "metadata": {},
   "outputs": [],
   "source": [
    "Ans4. Below is the code for the same:"
   ]
  },
  {
   "cell_type": "code",
   "execution_count": 37,
   "id": "c6940ac1-8ce7-4143-8689-5cebe391c4d8",
   "metadata": {},
   "outputs": [
    {
     "name": "stdin",
     "output_type": "stream",
     "text": [
      "Enter a number: 50\n"
     ]
    },
    {
     "name": "stdout",
     "output_type": "stream",
     "text": [
      "The number can be divided by 3 is 2 times before it is less than or equal to 10.\n"
     ]
    }
   ],
   "source": [
    "number = int(input(\"Enter a number:\"))\n",
    "count = 0\n",
    "while number > 10:\n",
    "    number = number/3\n",
    "    count +=1\n",
    "print(\"The number can be divided by 3 is\", count, \"times before it is less than or equal to 10.\")"
   ]
  },
  {
   "cell_type": "code",
   "execution_count": null,
   "id": "f7091571-fa37-4710-a8bc-fd08a7a77ff0",
   "metadata": {},
   "outputs": [],
   "source": [
    "Q5. Why and When to Use while loop in Python give a detailed description with example"
   ]
  },
  {
   "cell_type": "code",
   "execution_count": null,
   "id": "e2c6048b-2aeb-42fd-892c-875d92074d6d",
   "metadata": {},
   "outputs": [],
   "source": [
    "Ans5. A while loop in Python is used to repeatedly execute a block of code as\n",
    "      long as a certain condition is met.The loop will keep running as long as the condition is True,\n",
    "      and will exit when the condition becomes False.\n",
    "        \n",
    "    Here's the general syntax for a while loop in Python:\n",
    " while condition:\n",
    "      Code to be executed\n",
    "        \n",
    "    Here's an example that demonstrates the use of a while loop:\n",
    "    Print the numbers from 1 to 10\n",
    "    "
   ]
  },
  {
   "cell_type": "code",
   "execution_count": 1,
   "id": "1e9c1e5c-3f43-4d77-9a35-f63310c938c8",
   "metadata": {},
   "outputs": [
    {
     "name": "stdout",
     "output_type": "stream",
     "text": [
      "1\n",
      "2\n",
      "3\n",
      "4\n",
      "5\n",
      "6\n",
      "7\n",
      "8\n",
      "9\n",
      "10\n"
     ]
    }
   ],
   "source": [
    "counter = 1\n",
    "\n",
    "while counter <= 10:\n",
    "    print(counter)\n",
    "    counter += 1"
   ]
  },
  {
   "cell_type": "code",
   "execution_count": null,
   "id": "b1d5740e-449b-4fdc-960a-47b9a7a1c34a",
   "metadata": {},
   "outputs": [],
   "source": [
    "In this example, the while loop will run as long as the value of counter is \n",
    "less than or equal to 10.On each iteration of the loop, the value of counter \n",
    "is printed,and then incremented by 1.The loop will exit when the value of counter\n",
    "becomes greater than 10.\n",
    "\n",
    "The while loop is useful when you don't know in advance how many times\n",
    "you need to loop, and you want to keep looping until a certain condition is met.\n",
    "For example, you can use a while loop to read data from a file until the end of the file is reached,\n",
    "or to keep asking the user for input until a valid response is given."
   ]
  },
  {
   "cell_type": "code",
   "execution_count": null,
   "id": "17bdf993-c355-4e2e-8325-5355575ec79e",
   "metadata": {},
   "outputs": [],
   "source": [
    "Q6. Use nested while loop to print 3 different pattern"
   ]
  },
  {
   "cell_type": "code",
   "execution_count": null,
   "id": "cc187df2-0999-4499-b16f-aa8b859680b3",
   "metadata": {},
   "outputs": [],
   "source": [
    "Ans6. Following are the codes to print 3 different patterns:"
   ]
  },
  {
   "cell_type": "code",
   "execution_count": 1,
   "id": "f1b9f165-b2fd-4f0d-8847-bb92ae976f4e",
   "metadata": {},
   "outputs": [
    {
     "name": "stdout",
     "output_type": "stream",
     "text": [
      "Pattern 1\n",
      "1\n",
      "12\n",
      "123\n",
      "1234\n"
     ]
    }
   ],
   "source": [
    "#pattern 1\n",
    "print(\"Pattern 1\")\n",
    "a=1\n",
    "b=1\n",
    "while a<5:\n",
    "    while b<=a:\n",
    "        print(b, end =\"\")\n",
    "        b+=1\n",
    "    print()\n",
    "    b=1\n",
    "    a+=1\n",
    "    "
   ]
  },
  {
   "cell_type": "code",
   "execution_count": 6,
   "id": "7cfc8796-7d59-4984-b563-9e468eb76b64",
   "metadata": {},
   "outputs": [
    {
     "name": "stdout",
     "output_type": "stream",
     "text": [
      "Pattern 2\n",
      "*\n",
      "**\n",
      "***\n",
      "****\n"
     ]
    }
   ],
   "source": [
    "#pattern 2\n",
    "print(\"Pattern 2\")\n",
    "i=1\n",
    "j=1\n",
    "while i<5:\n",
    "     while j<=i:\n",
    "            print(\"*\", end=\"\")\n",
    "            j+=1\n",
    "     print()\n",
    "     j=1\n",
    "     i+=1"
   ]
  },
  {
   "cell_type": "code",
   "execution_count": 7,
   "id": "6942aa26-5dae-4b49-8995-0d74d2f328d9",
   "metadata": {},
   "outputs": [
    {
     "name": "stdout",
     "output_type": "stream",
     "text": [
      "Pattern 3\n",
      "$\n",
      "$$\n",
      "$$$\n",
      "$$$$\n",
      "$$$$$\n",
      "$$$$$$\n",
      "$$$$$$$\n"
     ]
    }
   ],
   "source": [
    "#pattern 3\n",
    "print(\"Pattern 3\")\n",
    "m=1\n",
    "n=1\n",
    "while m<8:\n",
    "    while n<=m:\n",
    "        print(\"$\", end=\"\")\n",
    "        n+=1\n",
    "    print()\n",
    "    n=1\n",
    "    m+=1"
   ]
  },
  {
   "cell_type": "code",
   "execution_count": null,
   "id": "081dd2bc-0a92-4ead-9af9-26e214308705",
   "metadata": {},
   "outputs": [],
   "source": [
    "Q7. Reverse a while loop to display numbers from 10 to 1"
   ]
  },
  {
   "cell_type": "code",
   "execution_count": null,
   "id": "7797ca7e-0d06-41cb-906a-e55bf8da3d47",
   "metadata": {},
   "outputs": [],
   "source": [
    "Ans7. Following is the code for the same:"
   ]
  },
  {
   "cell_type": "code",
   "execution_count": 8,
   "id": "338a8af5-0c07-498d-a41e-a8eb4266b218",
   "metadata": {},
   "outputs": [
    {
     "name": "stdout",
     "output_type": "stream",
     "text": [
      "10\n",
      "9\n",
      "8\n",
      "7\n",
      "6\n",
      "5\n",
      "4\n",
      "3\n",
      "2\n",
      "1\n"
     ]
    }
   ],
   "source": [
    "a=10\n",
    "b=1\n",
    "while a>=b:\n",
    "    print(a)\n",
    "    a-=1"
   ]
  },
  {
   "cell_type": "code",
   "execution_count": null,
   "id": "571cb43d-b4d1-4478-975e-61d30e71b22c",
   "metadata": {},
   "outputs": [],
   "source": [
    "Q8. Reverse a while loop to display numbers from 10 to 1"
   ]
  },
  {
   "cell_type": "code",
   "execution_count": null,
   "id": "6c941240-44cb-48d2-8c28-5ece735bf35f",
   "metadata": {},
   "outputs": [],
   "source": [
    "Ans.8 Following is the code for the same:"
   ]
  },
  {
   "cell_type": "code",
   "execution_count": 9,
   "id": "59f79452-14b6-405b-9d62-8730be191ce7",
   "metadata": {},
   "outputs": [
    {
     "name": "stdout",
     "output_type": "stream",
     "text": [
      "10\n",
      "9\n",
      "8\n",
      "7\n",
      "6\n",
      "5\n",
      "4\n",
      "3\n",
      "2\n",
      "1\n"
     ]
    }
   ],
   "source": [
    "a=10\n",
    "b=1\n",
    "while a>=b:\n",
    "    print(a)\n",
    "    a-=1"
   ]
  },
  {
   "cell_type": "code",
   "execution_count": null,
   "id": "c455289c-39ff-4a2f-b476-8f7c265b0fed",
   "metadata": {},
   "outputs": [],
   "source": []
  }
 ],
 "metadata": {
  "kernelspec": {
   "display_name": "Python 3 (ipykernel)",
   "language": "python",
   "name": "python3"
  },
  "language_info": {
   "codemirror_mode": {
    "name": "ipython",
    "version": 3
   },
   "file_extension": ".py",
   "mimetype": "text/x-python",
   "name": "python",
   "nbconvert_exporter": "python",
   "pygments_lexer": "ipython3",
   "version": "3.10.8"
  }
 },
 "nbformat": 4,
 "nbformat_minor": 5
}
